{
  "nbformat": 4,
  "nbformat_minor": 0,
  "metadata": {
    "colab": {
      "name": "loops.ipynb",
      "provenance": [],
      "collapsed_sections": []
    },
    "kernelspec": {
      "name": "python3",
      "display_name": "Python 3"
    },
    "language_info": {
      "name": "python"
    }
  },
  "cells": [
    {
      "cell_type": "code",
      "source": [
        "import pandas as pd\n",
        "\n",
        "from google.colab import drive\n",
        "drive.mount('/content/drive')"
      ],
      "metadata": {
        "colab": {
          "base_uri": "https://localhost:8080/"
        },
        "id": "3IL63_9GVnEL",
        "outputId": "4e8a2809-7857-438e-8dfb-abef715fce58"
      },
      "execution_count": 6,
      "outputs": [
        {
          "output_type": "stream",
          "name": "stdout",
          "text": [
            "Mounted at /content/drive\n"
          ]
        }
      ]
    },
    {
      "cell_type": "code",
      "source": [
        "data = pd.read_csv('/content/drive/MyDrive/data/pokemon.csv') #pokemon.csv datası dataframe'e çevrilir."
      ],
      "metadata": {
        "id": "9zNY_ISPVyPa"
      },
      "execution_count": 7,
      "outputs": []
    },
    {
      "cell_type": "code",
      "execution_count": 1,
      "metadata": {
        "colab": {
          "base_uri": "https://localhost:8080/"
        },
        "id": "w1OHNL8HSkQn",
        "outputId": "0a2efa1b-7ad2-4f07-e34d-67298dee4fce"
      },
      "outputs": [
        {
          "output_type": "stream",
          "name": "stdout",
          "text": [
            "i is:  0\n",
            "i is:  1\n",
            "i is:  2\n",
            "i is:  3\n",
            "i is:  4\n",
            "5  is equal to 5\n"
          ]
        }
      ],
      "source": [
        "i = 0                     #i değeri başlangıçta 0 olarak atanmıştır.\n",
        "while i != 5 :            #i değeri 5 olana kadar 1 artırılıp yazdırılır.\n",
        "    print('i is: ',i)\n",
        "    i +=1\n",
        "print(i,' is equal to 5') "
      ]
    },
    {
      "cell_type": "code",
      "source": [
        "lis = [1,2,3,4,5]       #bir liste oluşturulup, liste içerisindeki değerler for döngüsüyle teker teker yazdırılmıştır.\n",
        "for i in lis:\n",
        "    print('i is: ',i)\n",
        "print('')"
      ],
      "metadata": {
        "colab": {
          "base_uri": "https://localhost:8080/"
        },
        "id": "nvHtJvPpSvhR",
        "outputId": "11b7f44a-3d02-4542-8fa2-f33bfbe253ac"
      },
      "execution_count": 2,
      "outputs": [
        {
          "output_type": "stream",
          "name": "stdout",
          "text": [
            "i is:  1\n",
            "i is:  2\n",
            "i is:  3\n",
            "i is:  4\n",
            "i is:  5\n",
            "\n"
          ]
        }
      ]
    },
    {
      "cell_type": "markdown",
      "source": [
        "List, pandas ve dictionary yapılarındaki değer ve değerin indeksini for döngüsü ile elde edebilir."
      ],
      "metadata": {
        "id": "C1I9xL-BWJXd"
      }
    },
    {
      "cell_type": "markdown",
      "source": [
        "Liste içerisinde hem değerler vardır, hem de bu değerlerin indeksleri vardır.\n",
        "enumerate() methodu liste içerisindeki değerleri indeks numaralarıyla yazdırır."
      ],
      "metadata": {
        "id": "2r_lPT95Tz5E"
      }
    },
    {
      "cell_type": "code",
      "source": [
        "for index, value in enumerate(lis):\n",
        "    print(index,\" : \",value)\n",
        "print('')  "
      ],
      "metadata": {
        "colab": {
          "base_uri": "https://localhost:8080/"
        },
        "id": "tRyrxPu0TnaK",
        "outputId": "70a03de7-c37e-4a64-a09b-74fd9d02b71c"
      },
      "execution_count": 3,
      "outputs": [
        {
          "output_type": "stream",
          "name": "stdout",
          "text": [
            "0  :  1\n",
            "1  :  2\n",
            "2  :  3\n",
            "3  :  4\n",
            "4  :  5\n",
            "\n"
          ]
        }
      ]
    },
    {
      "cell_type": "markdown",
      "source": [
        "Dictionary'deki değerler çok fazla olduğunda bu değerlere teker teker erişim zorlaşır. for döngüsü ile dictionary'deki değerlere erişim sağlanır. dictionary.items() methoduyla dictionary'deki keyler ve valuelara birlikte erişim sağlanır."
      ],
      "metadata": {
        "id": "JUcN0RQxUw1w"
      }
    },
    {
      "cell_type": "code",
      "source": [
        "dictionary = {'spain':'madrid','france':'paris'}\n",
        "for key,value in dictionary.items():\n",
        "    print(key,\" : \",value)\n",
        "print('')"
      ],
      "metadata": {
        "colab": {
          "base_uri": "https://localhost:8080/"
        },
        "id": "yuyfG6qDTQhE",
        "outputId": "dbc31126-5539-43bd-a091-0995964e408b"
      },
      "execution_count": 4,
      "outputs": [
        {
          "output_type": "stream",
          "name": "stdout",
          "text": [
            "spain  :  madrid\n",
            "france  :  paris\n",
            "\n"
          ]
        }
      ]
    },
    {
      "cell_type": "markdown",
      "source": [
        "Pandas ile seçilen feature'un değeri ve bu değerin indeksi iterrows() methoduyla for döngüsü kullanılarak yazdırılır."
      ],
      "metadata": {
        "id": "1T2y24A_Wf55"
      }
    },
    {
      "cell_type": "code",
      "source": [
        "for index,value in data[['Attack']][0:1].iterrows(): \n",
        "    print(index,\" : \",value)"
      ],
      "metadata": {
        "colab": {
          "base_uri": "https://localhost:8080/"
        },
        "id": "puzvhSLyUnCB",
        "outputId": "6a403565-ac9d-433c-d056-61aae2a9f730"
      },
      "execution_count": 8,
      "outputs": [
        {
          "output_type": "stream",
          "name": "stdout",
          "text": [
            "0  :  Attack    49\n",
            "Name: 0, dtype: int64\n"
          ]
        }
      ]
    }
  ]
}