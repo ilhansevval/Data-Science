{
  "nbformat": 4,
  "nbformat_minor": 0,
  "metadata": {
    "colab": {
      "name": "exploratory_data_analysis.ipynb",
      "provenance": [],
      "collapsed_sections": []
    },
    "kernelspec": {
      "name": "python3",
      "display_name": "Python 3"
    },
    "language_info": {
      "name": "python"
    }
  },
  "cells": [
    {
      "cell_type": "markdown",
      "source": [
        "\n",
        "# **EXPLORATORY DATA ANALYSIS**\n",
        "\n"
      ],
      "metadata": {
        "id": "CtaNfRxSlDJu"
      }
    },
    {
      "cell_type": "code",
      "execution_count": 2,
      "metadata": {
        "colab": {
          "base_uri": "https://localhost:8080/"
        },
        "id": "QsfVCRjZjIHW",
        "outputId": "d002cd6e-baff-4275-e197-cb10463bb495"
      },
      "outputs": [
        {
          "output_type": "stream",
          "name": "stdout",
          "text": [
            "Mounted at /content/drive\n"
          ]
        }
      ],
      "source": [
        "import pandas as pd \n",
        "import numpy as np\n",
        "\n",
        "from google.colab import drive\n",
        "drive.mount('/content/drive')"
      ]
    },
    {
      "cell_type": "code",
      "source": [
        "\n",
        "data = pd.read_csv('/content/drive/MyDrive/data/pokemon.csv') #pokemon.csv datası dataframe'e çevrilir."
      ],
      "metadata": {
        "id": "IvmB1Kpqj8-U"
      },
      "execution_count": 3,
      "outputs": []
    },
    {
      "cell_type": "code",
      "source": [
        "data.head()"
      ],
      "metadata": {
        "colab": {
          "base_uri": "https://localhost:8080/",
          "height": 206
        },
        "id": "nGHbsITakP3G",
        "outputId": "c9e3b7a6-7641-45cd-f7c5-e357b1fd3097"
      },
      "execution_count": 4,
      "outputs": [
        {
          "output_type": "execute_result",
          "data": {
            "text/plain": [
              "   #           Name Type 1  Type 2  HP  Attack  Defense  Sp. Atk  Sp. Def  \\\n",
              "0  1      Bulbasaur  Grass  Poison  45      49       49       65       65   \n",
              "1  2        Ivysaur  Grass  Poison  60      62       63       80       80   \n",
              "2  3       Venusaur  Grass  Poison  80      82       83      100      100   \n",
              "3  4  Mega Venusaur  Grass  Poison  80     100      123      122      120   \n",
              "4  5     Charmander   Fire     NaN  39      52       43       60       50   \n",
              "\n",
              "   Speed  Generation  Legendary  \n",
              "0     45           1      False  \n",
              "1     60           1      False  \n",
              "2     80           1      False  \n",
              "3     80           1      False  \n",
              "4     65           1      False  "
            ],
            "text/html": [
              "\n",
              "  <div id=\"df-e8762d12-63ac-47ee-b883-e97a1b25b1fe\">\n",
              "    <div class=\"colab-df-container\">\n",
              "      <div>\n",
              "<style scoped>\n",
              "    .dataframe tbody tr th:only-of-type {\n",
              "        vertical-align: middle;\n",
              "    }\n",
              "\n",
              "    .dataframe tbody tr th {\n",
              "        vertical-align: top;\n",
              "    }\n",
              "\n",
              "    .dataframe thead th {\n",
              "        text-align: right;\n",
              "    }\n",
              "</style>\n",
              "<table border=\"1\" class=\"dataframe\">\n",
              "  <thead>\n",
              "    <tr style=\"text-align: right;\">\n",
              "      <th></th>\n",
              "      <th>#</th>\n",
              "      <th>Name</th>\n",
              "      <th>Type 1</th>\n",
              "      <th>Type 2</th>\n",
              "      <th>HP</th>\n",
              "      <th>Attack</th>\n",
              "      <th>Defense</th>\n",
              "      <th>Sp. Atk</th>\n",
              "      <th>Sp. Def</th>\n",
              "      <th>Speed</th>\n",
              "      <th>Generation</th>\n",
              "      <th>Legendary</th>\n",
              "    </tr>\n",
              "  </thead>\n",
              "  <tbody>\n",
              "    <tr>\n",
              "      <th>0</th>\n",
              "      <td>1</td>\n",
              "      <td>Bulbasaur</td>\n",
              "      <td>Grass</td>\n",
              "      <td>Poison</td>\n",
              "      <td>45</td>\n",
              "      <td>49</td>\n",
              "      <td>49</td>\n",
              "      <td>65</td>\n",
              "      <td>65</td>\n",
              "      <td>45</td>\n",
              "      <td>1</td>\n",
              "      <td>False</td>\n",
              "    </tr>\n",
              "    <tr>\n",
              "      <th>1</th>\n",
              "      <td>2</td>\n",
              "      <td>Ivysaur</td>\n",
              "      <td>Grass</td>\n",
              "      <td>Poison</td>\n",
              "      <td>60</td>\n",
              "      <td>62</td>\n",
              "      <td>63</td>\n",
              "      <td>80</td>\n",
              "      <td>80</td>\n",
              "      <td>60</td>\n",
              "      <td>1</td>\n",
              "      <td>False</td>\n",
              "    </tr>\n",
              "    <tr>\n",
              "      <th>2</th>\n",
              "      <td>3</td>\n",
              "      <td>Venusaur</td>\n",
              "      <td>Grass</td>\n",
              "      <td>Poison</td>\n",
              "      <td>80</td>\n",
              "      <td>82</td>\n",
              "      <td>83</td>\n",
              "      <td>100</td>\n",
              "      <td>100</td>\n",
              "      <td>80</td>\n",
              "      <td>1</td>\n",
              "      <td>False</td>\n",
              "    </tr>\n",
              "    <tr>\n",
              "      <th>3</th>\n",
              "      <td>4</td>\n",
              "      <td>Mega Venusaur</td>\n",
              "      <td>Grass</td>\n",
              "      <td>Poison</td>\n",
              "      <td>80</td>\n",
              "      <td>100</td>\n",
              "      <td>123</td>\n",
              "      <td>122</td>\n",
              "      <td>120</td>\n",
              "      <td>80</td>\n",
              "      <td>1</td>\n",
              "      <td>False</td>\n",
              "    </tr>\n",
              "    <tr>\n",
              "      <th>4</th>\n",
              "      <td>5</td>\n",
              "      <td>Charmander</td>\n",
              "      <td>Fire</td>\n",
              "      <td>NaN</td>\n",
              "      <td>39</td>\n",
              "      <td>52</td>\n",
              "      <td>43</td>\n",
              "      <td>60</td>\n",
              "      <td>50</td>\n",
              "      <td>65</td>\n",
              "      <td>1</td>\n",
              "      <td>False</td>\n",
              "    </tr>\n",
              "  </tbody>\n",
              "</table>\n",
              "</div>\n",
              "      <button class=\"colab-df-convert\" onclick=\"convertToInteractive('df-e8762d12-63ac-47ee-b883-e97a1b25b1fe')\"\n",
              "              title=\"Convert this dataframe to an interactive table.\"\n",
              "              style=\"display:none;\">\n",
              "        \n",
              "  <svg xmlns=\"http://www.w3.org/2000/svg\" height=\"24px\"viewBox=\"0 0 24 24\"\n",
              "       width=\"24px\">\n",
              "    <path d=\"M0 0h24v24H0V0z\" fill=\"none\"/>\n",
              "    <path d=\"M18.56 5.44l.94 2.06.94-2.06 2.06-.94-2.06-.94-.94-2.06-.94 2.06-2.06.94zm-11 1L8.5 8.5l.94-2.06 2.06-.94-2.06-.94L8.5 2.5l-.94 2.06-2.06.94zm10 10l.94 2.06.94-2.06 2.06-.94-2.06-.94-.94-2.06-.94 2.06-2.06.94z\"/><path d=\"M17.41 7.96l-1.37-1.37c-.4-.4-.92-.59-1.43-.59-.52 0-1.04.2-1.43.59L10.3 9.45l-7.72 7.72c-.78.78-.78 2.05 0 2.83L4 21.41c.39.39.9.59 1.41.59.51 0 1.02-.2 1.41-.59l7.78-7.78 2.81-2.81c.8-.78.8-2.07 0-2.86zM5.41 20L4 18.59l7.72-7.72 1.47 1.35L5.41 20z\"/>\n",
              "  </svg>\n",
              "      </button>\n",
              "      \n",
              "  <style>\n",
              "    .colab-df-container {\n",
              "      display:flex;\n",
              "      flex-wrap:wrap;\n",
              "      gap: 12px;\n",
              "    }\n",
              "\n",
              "    .colab-df-convert {\n",
              "      background-color: #E8F0FE;\n",
              "      border: none;\n",
              "      border-radius: 50%;\n",
              "      cursor: pointer;\n",
              "      display: none;\n",
              "      fill: #1967D2;\n",
              "      height: 32px;\n",
              "      padding: 0 0 0 0;\n",
              "      width: 32px;\n",
              "    }\n",
              "\n",
              "    .colab-df-convert:hover {\n",
              "      background-color: #E2EBFA;\n",
              "      box-shadow: 0px 1px 2px rgba(60, 64, 67, 0.3), 0px 1px 3px 1px rgba(60, 64, 67, 0.15);\n",
              "      fill: #174EA6;\n",
              "    }\n",
              "\n",
              "    [theme=dark] .colab-df-convert {\n",
              "      background-color: #3B4455;\n",
              "      fill: #D2E3FC;\n",
              "    }\n",
              "\n",
              "    [theme=dark] .colab-df-convert:hover {\n",
              "      background-color: #434B5C;\n",
              "      box-shadow: 0px 1px 3px 1px rgba(0, 0, 0, 0.15);\n",
              "      filter: drop-shadow(0px 1px 2px rgba(0, 0, 0, 0.3));\n",
              "      fill: #FFFFFF;\n",
              "    }\n",
              "  </style>\n",
              "\n",
              "      <script>\n",
              "        const buttonEl =\n",
              "          document.querySelector('#df-e8762d12-63ac-47ee-b883-e97a1b25b1fe button.colab-df-convert');\n",
              "        buttonEl.style.display =\n",
              "          google.colab.kernel.accessAllowed ? 'block' : 'none';\n",
              "\n",
              "        async function convertToInteractive(key) {\n",
              "          const element = document.querySelector('#df-e8762d12-63ac-47ee-b883-e97a1b25b1fe');\n",
              "          const dataTable =\n",
              "            await google.colab.kernel.invokeFunction('convertToInteractive',\n",
              "                                                     [key], {});\n",
              "          if (!dataTable) return;\n",
              "\n",
              "          const docLinkHtml = 'Like what you see? Visit the ' +\n",
              "            '<a target=\"_blank\" href=https://colab.research.google.com/notebooks/data_table.ipynb>data table notebook</a>'\n",
              "            + ' to learn more about interactive tables.';\n",
              "          element.innerHTML = '';\n",
              "          dataTable['output_type'] = 'display_data';\n",
              "          await google.colab.output.renderOutput(dataTable, element);\n",
              "          const docLink = document.createElement('div');\n",
              "          docLink.innerHTML = docLinkHtml;\n",
              "          element.appendChild(docLink);\n",
              "        }\n",
              "      </script>\n",
              "    </div>\n",
              "  </div>\n",
              "  "
            ]
          },
          "metadata": {},
          "execution_count": 4
        }
      ]
    },
    {
      "cell_type": "markdown",
      "source": [
        "**value_count()** methodu bir sütundaki verilerden kaç tane olduğunu gösterir. Bu method kullanılırken **dropna = False** denildiğinde missing datalar da sayılır."
      ],
      "metadata": {
        "id": "cKnikeV_kf-k"
      }
    },
    {
      "cell_type": "code",
      "source": [
        "print(data['Type 1'].value_counts(dropna =False)) "
      ],
      "metadata": {
        "colab": {
          "base_uri": "https://localhost:8080/"
        },
        "id": "8dBAsPwgkNAB",
        "outputId": "a69903f9-4e40-4c7b-90d8-73ad7ec7b363"
      },
      "execution_count": 5,
      "outputs": [
        {
          "output_type": "stream",
          "name": "stdout",
          "text": [
            "Water       112\n",
            "Normal       98\n",
            "Grass        70\n",
            "Bug          69\n",
            "Psychic      57\n",
            "Fire         52\n",
            "Electric     44\n",
            "Rock         44\n",
            "Dragon       32\n",
            "Ground       32\n",
            "Ghost        32\n",
            "Dark         31\n",
            "Poison       28\n",
            "Steel        27\n",
            "Fighting     27\n",
            "Ice          24\n",
            "Fairy        17\n",
            "Flying        4\n",
            "Name: Type 1, dtype: int64\n"
          ]
        }
      ]
    },
    {
      "cell_type": "code",
      "source": [
        "data.isnull().sum().sort_values(ascending=False) #eksik değerlerin sayısı azalan şekilde sıralanır. "
      ],
      "metadata": {
        "colab": {
          "base_uri": "https://localhost:8080/"
        },
        "id": "Yk2xOYxrR85z",
        "outputId": "5348f438-1930-492d-975c-7e71c91b86c3"
      },
      "execution_count": 12,
      "outputs": [
        {
          "output_type": "execute_result",
          "data": {
            "text/plain": [
              "Type 2        386\n",
              "Name            1\n",
              "#               0\n",
              "Type 1          0\n",
              "HP              0\n",
              "Attack          0\n",
              "Defense         0\n",
              "Sp. Atk         0\n",
              "Sp. Def         0\n",
              "Speed           0\n",
              "Generation      0\n",
              "Legendary       0\n",
              "dtype: int64"
            ]
          },
          "metadata": {},
          "execution_count": 12
        }
      ]
    },
    {
      "cell_type": "markdown",
      "source": [
        "**outlier** ayrık, aykırı demektir. Outlier değerler verilerin geri kalanından önemli ölçüde daha yüksek ya da daha düşüktür."
      ],
      "metadata": {
        "id": "cyjK3UXFlrLg"
      }
    },
    {
      "cell_type": "code",
      "source": [
        "liste = np.array([1,4,5,6,8,9,11,12,13,14,15,16,17])"
      ],
      "metadata": {
        "id": "1RC5YYoKkN2H"
      },
      "execution_count": 6,
      "outputs": []
    },
    {
      "cell_type": "markdown",
      "source": [
        "![python-outlier-detection-example-1.jpg](data:image/jpeg;base64,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)"
      ],
      "metadata": {
        "id": "Sp96LmiEsYDp"
      }
    },
    {
      "cell_type": "markdown",
      "source": [
        " \n",
        "\n",
        "*   **Median** değeri listenin ortasındaki sayıdır ve second quantile (50%) olarak da adlandırılır.\n",
        "*   **Lower quartile** listedeki en küçük sayı ile listenin medianının ortasındaki sayıdır, first quantile (25%) olarak da adlandırılır.\n",
        "*   **Upper quartile** listenin medianı ile listedeki en büyük sayının ortasındaki sayıdır, third quantile (75%) olarak da adlandırılır.\n",
        "*   Lower quartile(Q1) ile upper quartile(Q3) arasındaki mesafe **interquartile range**'dir. \n",
        "*   Q1 - 1.5(Q3-Q1) değerinin altındaki değerler listedeki minimum değerin altında kalır ve outlierdır.\n",
        "*   Q3 + 1.5(Q3-Q1). (Q3-Q1) değerinin üstündeki değerler listedeki maximum değerin üstünde kalır ve outlierdır.\n",
        "\n",
        "\n",
        "\n",
        "\n",
        "\n",
        "\n",
        "\n"
      ],
      "metadata": {
        "id": "iAR4otbSnpF-"
      }
    },
    {
      "cell_type": "code",
      "source": [
        "from numpy import median\n",
        "median(liste)"
      ],
      "metadata": {
        "colab": {
          "base_uri": "https://localhost:8080/"
        },
        "id": "W1-WczHmnJ7V",
        "outputId": "f4e89b9d-2970-4d69-aa95-7107dd75f596"
      },
      "execution_count": 7,
      "outputs": [
        {
          "output_type": "execute_result",
          "data": {
            "text/plain": [
              "11.0"
            ]
          },
          "metadata": {},
          "execution_count": 7
        }
      ]
    },
    {
      "cell_type": "code",
      "source": [
        "print(\"median or second quantile(50%) : \", np.quantile(liste, .50))\n",
        "print(\"first quantile(%25) : \", np.quantile(liste, .25))\n",
        "print(\"third quantile(%75) : \", np.quantile(liste, .75))"
      ],
      "metadata": {
        "colab": {
          "base_uri": "https://localhost:8080/"
        },
        "id": "DfM57_Phnkrc",
        "outputId": "6d0884c4-73ca-44ba-c23a-d7df6d1cf5f3"
      },
      "execution_count": 8,
      "outputs": [
        {
          "output_type": "stream",
          "name": "stdout",
          "text": [
            "median or second quantile(50%) :  11.0\n",
            "first quantile(%25) :  6.0\n",
            "third quantile(%75) :  14.0\n"
          ]
        }
      ]
    },
    {
      "cell_type": "markdown",
      "source": [
        "describe methodunda ;\n",
        "*   Sayısal değer barındıran sütunların istatiksel özeti hesaplanır.\n",
        "*   count dataframedeki samplelardır.\n",
        "*   mean ortalama değerdir.\n",
        "*   min, max, standart sapma, median, lower quartile, upper quartile hesaplanır.\n",
        "\n",
        "\n",
        "\n"
      ],
      "metadata": {
        "id": "fPG7Ib4oqVrN"
      }
    },
    {
      "cell_type": "code",
      "source": [
        "data.describe()"
      ],
      "metadata": {
        "colab": {
          "base_uri": "https://localhost:8080/",
          "height": 300
        },
        "id": "l_dM8jo0o0eW",
        "outputId": "caf04a0c-5a09-4877-e772-ade5fc6e2fbb"
      },
      "execution_count": 9,
      "outputs": [
        {
          "output_type": "execute_result",
          "data": {
            "text/plain": [
              "              #          HP      Attack     Defense     Sp. Atk     Sp. Def  \\\n",
              "count  800.0000  800.000000  800.000000  800.000000  800.000000  800.000000   \n",
              "mean   400.5000   69.258750   79.001250   73.842500   72.820000   71.902500   \n",
              "std    231.0844   25.534669   32.457366   31.183501   32.722294   27.828916   \n",
              "min      1.0000    1.000000    5.000000    5.000000   10.000000   20.000000   \n",
              "25%    200.7500   50.000000   55.000000   50.000000   49.750000   50.000000   \n",
              "50%    400.5000   65.000000   75.000000   70.000000   65.000000   70.000000   \n",
              "75%    600.2500   80.000000  100.000000   90.000000   95.000000   90.000000   \n",
              "max    800.0000  255.000000  190.000000  230.000000  194.000000  230.000000   \n",
              "\n",
              "            Speed  Generation  \n",
              "count  800.000000   800.00000  \n",
              "mean    68.277500     3.32375  \n",
              "std     29.060474     1.66129  \n",
              "min      5.000000     1.00000  \n",
              "25%     45.000000     2.00000  \n",
              "50%     65.000000     3.00000  \n",
              "75%     90.000000     5.00000  \n",
              "max    180.000000     6.00000  "
            ],
            "text/html": [
              "\n",
              "  <div id=\"df-233fc34a-1e78-4a05-a596-3c6c119f8834\">\n",
              "    <div class=\"colab-df-container\">\n",
              "      <div>\n",
              "<style scoped>\n",
              "    .dataframe tbody tr th:only-of-type {\n",
              "        vertical-align: middle;\n",
              "    }\n",
              "\n",
              "    .dataframe tbody tr th {\n",
              "        vertical-align: top;\n",
              "    }\n",
              "\n",
              "    .dataframe thead th {\n",
              "        text-align: right;\n",
              "    }\n",
              "</style>\n",
              "<table border=\"1\" class=\"dataframe\">\n",
              "  <thead>\n",
              "    <tr style=\"text-align: right;\">\n",
              "      <th></th>\n",
              "      <th>#</th>\n",
              "      <th>HP</th>\n",
              "      <th>Attack</th>\n",
              "      <th>Defense</th>\n",
              "      <th>Sp. Atk</th>\n",
              "      <th>Sp. Def</th>\n",
              "      <th>Speed</th>\n",
              "      <th>Generation</th>\n",
              "    </tr>\n",
              "  </thead>\n",
              "  <tbody>\n",
              "    <tr>\n",
              "      <th>count</th>\n",
              "      <td>800.0000</td>\n",
              "      <td>800.000000</td>\n",
              "      <td>800.000000</td>\n",
              "      <td>800.000000</td>\n",
              "      <td>800.000000</td>\n",
              "      <td>800.000000</td>\n",
              "      <td>800.000000</td>\n",
              "      <td>800.00000</td>\n",
              "    </tr>\n",
              "    <tr>\n",
              "      <th>mean</th>\n",
              "      <td>400.5000</td>\n",
              "      <td>69.258750</td>\n",
              "      <td>79.001250</td>\n",
              "      <td>73.842500</td>\n",
              "      <td>72.820000</td>\n",
              "      <td>71.902500</td>\n",
              "      <td>68.277500</td>\n",
              "      <td>3.32375</td>\n",
              "    </tr>\n",
              "    <tr>\n",
              "      <th>std</th>\n",
              "      <td>231.0844</td>\n",
              "      <td>25.534669</td>\n",
              "      <td>32.457366</td>\n",
              "      <td>31.183501</td>\n",
              "      <td>32.722294</td>\n",
              "      <td>27.828916</td>\n",
              "      <td>29.060474</td>\n",
              "      <td>1.66129</td>\n",
              "    </tr>\n",
              "    <tr>\n",
              "      <th>min</th>\n",
              "      <td>1.0000</td>\n",
              "      <td>1.000000</td>\n",
              "      <td>5.000000</td>\n",
              "      <td>5.000000</td>\n",
              "      <td>10.000000</td>\n",
              "      <td>20.000000</td>\n",
              "      <td>5.000000</td>\n",
              "      <td>1.00000</td>\n",
              "    </tr>\n",
              "    <tr>\n",
              "      <th>25%</th>\n",
              "      <td>200.7500</td>\n",
              "      <td>50.000000</td>\n",
              "      <td>55.000000</td>\n",
              "      <td>50.000000</td>\n",
              "      <td>49.750000</td>\n",
              "      <td>50.000000</td>\n",
              "      <td>45.000000</td>\n",
              "      <td>2.00000</td>\n",
              "    </tr>\n",
              "    <tr>\n",
              "      <th>50%</th>\n",
              "      <td>400.5000</td>\n",
              "      <td>65.000000</td>\n",
              "      <td>75.000000</td>\n",
              "      <td>70.000000</td>\n",
              "      <td>65.000000</td>\n",
              "      <td>70.000000</td>\n",
              "      <td>65.000000</td>\n",
              "      <td>3.00000</td>\n",
              "    </tr>\n",
              "    <tr>\n",
              "      <th>75%</th>\n",
              "      <td>600.2500</td>\n",
              "      <td>80.000000</td>\n",
              "      <td>100.000000</td>\n",
              "      <td>90.000000</td>\n",
              "      <td>95.000000</td>\n",
              "      <td>90.000000</td>\n",
              "      <td>90.000000</td>\n",
              "      <td>5.00000</td>\n",
              "    </tr>\n",
              "    <tr>\n",
              "      <th>max</th>\n",
              "      <td>800.0000</td>\n",
              "      <td>255.000000</td>\n",
              "      <td>190.000000</td>\n",
              "      <td>230.000000</td>\n",
              "      <td>194.000000</td>\n",
              "      <td>230.000000</td>\n",
              "      <td>180.000000</td>\n",
              "      <td>6.00000</td>\n",
              "    </tr>\n",
              "  </tbody>\n",
              "</table>\n",
              "</div>\n",
              "      <button class=\"colab-df-convert\" onclick=\"convertToInteractive('df-233fc34a-1e78-4a05-a596-3c6c119f8834')\"\n",
              "              title=\"Convert this dataframe to an interactive table.\"\n",
              "              style=\"display:none;\">\n",
              "        \n",
              "  <svg xmlns=\"http://www.w3.org/2000/svg\" height=\"24px\"viewBox=\"0 0 24 24\"\n",
              "       width=\"24px\">\n",
              "    <path d=\"M0 0h24v24H0V0z\" fill=\"none\"/>\n",
              "    <path d=\"M18.56 5.44l.94 2.06.94-2.06 2.06-.94-2.06-.94-.94-2.06-.94 2.06-2.06.94zm-11 1L8.5 8.5l.94-2.06 2.06-.94-2.06-.94L8.5 2.5l-.94 2.06-2.06.94zm10 10l.94 2.06.94-2.06 2.06-.94-2.06-.94-.94-2.06-.94 2.06-2.06.94z\"/><path d=\"M17.41 7.96l-1.37-1.37c-.4-.4-.92-.59-1.43-.59-.52 0-1.04.2-1.43.59L10.3 9.45l-7.72 7.72c-.78.78-.78 2.05 0 2.83L4 21.41c.39.39.9.59 1.41.59.51 0 1.02-.2 1.41-.59l7.78-7.78 2.81-2.81c.8-.78.8-2.07 0-2.86zM5.41 20L4 18.59l7.72-7.72 1.47 1.35L5.41 20z\"/>\n",
              "  </svg>\n",
              "      </button>\n",
              "      \n",
              "  <style>\n",
              "    .colab-df-container {\n",
              "      display:flex;\n",
              "      flex-wrap:wrap;\n",
              "      gap: 12px;\n",
              "    }\n",
              "\n",
              "    .colab-df-convert {\n",
              "      background-color: #E8F0FE;\n",
              "      border: none;\n",
              "      border-radius: 50%;\n",
              "      cursor: pointer;\n",
              "      display: none;\n",
              "      fill: #1967D2;\n",
              "      height: 32px;\n",
              "      padding: 0 0 0 0;\n",
              "      width: 32px;\n",
              "    }\n",
              "\n",
              "    .colab-df-convert:hover {\n",
              "      background-color: #E2EBFA;\n",
              "      box-shadow: 0px 1px 2px rgba(60, 64, 67, 0.3), 0px 1px 3px 1px rgba(60, 64, 67, 0.15);\n",
              "      fill: #174EA6;\n",
              "    }\n",
              "\n",
              "    [theme=dark] .colab-df-convert {\n",
              "      background-color: #3B4455;\n",
              "      fill: #D2E3FC;\n",
              "    }\n",
              "\n",
              "    [theme=dark] .colab-df-convert:hover {\n",
              "      background-color: #434B5C;\n",
              "      box-shadow: 0px 1px 3px 1px rgba(0, 0, 0, 0.15);\n",
              "      filter: drop-shadow(0px 1px 2px rgba(0, 0, 0, 0.3));\n",
              "      fill: #FFFFFF;\n",
              "    }\n",
              "  </style>\n",
              "\n",
              "      <script>\n",
              "        const buttonEl =\n",
              "          document.querySelector('#df-233fc34a-1e78-4a05-a596-3c6c119f8834 button.colab-df-convert');\n",
              "        buttonEl.style.display =\n",
              "          google.colab.kernel.accessAllowed ? 'block' : 'none';\n",
              "\n",
              "        async function convertToInteractive(key) {\n",
              "          const element = document.querySelector('#df-233fc34a-1e78-4a05-a596-3c6c119f8834');\n",
              "          const dataTable =\n",
              "            await google.colab.kernel.invokeFunction('convertToInteractive',\n",
              "                                                     [key], {});\n",
              "          if (!dataTable) return;\n",
              "\n",
              "          const docLinkHtml = 'Like what you see? Visit the ' +\n",
              "            '<a target=\"_blank\" href=https://colab.research.google.com/notebooks/data_table.ipynb>data table notebook</a>'\n",
              "            + ' to learn more about interactive tables.';\n",
              "          element.innerHTML = '';\n",
              "          dataTable['output_type'] = 'display_data';\n",
              "          await google.colab.output.renderOutput(dataTable, element);\n",
              "          const docLink = document.createElement('div');\n",
              "          docLink.innerHTML = docLinkHtml;\n",
              "          element.appendChild(docLink);\n",
              "        }\n",
              "      </script>\n",
              "    </div>\n",
              "  </div>\n",
              "  "
            ]
          },
          "metadata": {},
          "execution_count": 9
        }
      ]
    },
    {
      "cell_type": "markdown",
      "source": [
        "describe methodu string veri barındıran sütunlara da uygulanabilir.\n",
        "\n",
        "*   **count**: NaN olmayan veri sayısı\n",
        "*  **unique**: Birbirinden farklı kaç kategori olduğunun bilgisi\n",
        "*   **top** : Sütunda en çok bulunan kategorinin adı.\n",
        "*   **freq** : En çok bulunan kategorinin sütunda bulunma sıklığı\n",
        "\n",
        "\n",
        "\n"
      ],
      "metadata": {
        "id": "FKagBxpHSvdC"
      }
    },
    {
      "cell_type": "code",
      "source": [
        "data[\"Name\"].describe()"
      ],
      "metadata": {
        "colab": {
          "base_uri": "https://localhost:8080/"
        },
        "id": "zcknY98iSnww",
        "outputId": "84ab6a65-8bc3-41a4-a8be-2a02c1ac96e3"
      },
      "execution_count": 13,
      "outputs": [
        {
          "output_type": "execute_result",
          "data": {
            "text/plain": [
              "count           799\n",
              "unique          799\n",
              "top       Bulbasaur\n",
              "freq              1\n",
              "Name: Name, dtype: object"
            ]
          },
          "metadata": {},
          "execution_count": 13
        }
      ]
    },
    {
      "cell_type": "markdown",
      "source": [
        "describe string veri bulunduran sütunlarda uygulanmak istenildiğinde **['O']** parametresi kullanılır."
      ],
      "metadata": {
        "id": "bcoO10oiTytw"
      }
    },
    {
      "cell_type": "code",
      "source": [
        "data.describe(include=['O'])"
      ],
      "metadata": {
        "colab": {
          "base_uri": "https://localhost:8080/",
          "height": 175
        },
        "id": "Y6l0CmK2St2t",
        "outputId": "fa5fb184-a4b6-4e8f-c576-5ec5d4dd0fb7"
      },
      "execution_count": 14,
      "outputs": [
        {
          "output_type": "execute_result",
          "data": {
            "text/plain": [
              "             Name Type 1  Type 2\n",
              "count         799    800     414\n",
              "unique        799     18      18\n",
              "top     Bulbasaur  Water  Flying\n",
              "freq            1    112      97"
            ],
            "text/html": [
              "\n",
              "  <div id=\"df-cea3f2d0-772b-4060-bc8e-e1f549009b7d\">\n",
              "    <div class=\"colab-df-container\">\n",
              "      <div>\n",
              "<style scoped>\n",
              "    .dataframe tbody tr th:only-of-type {\n",
              "        vertical-align: middle;\n",
              "    }\n",
              "\n",
              "    .dataframe tbody tr th {\n",
              "        vertical-align: top;\n",
              "    }\n",
              "\n",
              "    .dataframe thead th {\n",
              "        text-align: right;\n",
              "    }\n",
              "</style>\n",
              "<table border=\"1\" class=\"dataframe\">\n",
              "  <thead>\n",
              "    <tr style=\"text-align: right;\">\n",
              "      <th></th>\n",
              "      <th>Name</th>\n",
              "      <th>Type 1</th>\n",
              "      <th>Type 2</th>\n",
              "    </tr>\n",
              "  </thead>\n",
              "  <tbody>\n",
              "    <tr>\n",
              "      <th>count</th>\n",
              "      <td>799</td>\n",
              "      <td>800</td>\n",
              "      <td>414</td>\n",
              "    </tr>\n",
              "    <tr>\n",
              "      <th>unique</th>\n",
              "      <td>799</td>\n",
              "      <td>18</td>\n",
              "      <td>18</td>\n",
              "    </tr>\n",
              "    <tr>\n",
              "      <th>top</th>\n",
              "      <td>Bulbasaur</td>\n",
              "      <td>Water</td>\n",
              "      <td>Flying</td>\n",
              "    </tr>\n",
              "    <tr>\n",
              "      <th>freq</th>\n",
              "      <td>1</td>\n",
              "      <td>112</td>\n",
              "      <td>97</td>\n",
              "    </tr>\n",
              "  </tbody>\n",
              "</table>\n",
              "</div>\n",
              "      <button class=\"colab-df-convert\" onclick=\"convertToInteractive('df-cea3f2d0-772b-4060-bc8e-e1f549009b7d')\"\n",
              "              title=\"Convert this dataframe to an interactive table.\"\n",
              "              style=\"display:none;\">\n",
              "        \n",
              "  <svg xmlns=\"http://www.w3.org/2000/svg\" height=\"24px\"viewBox=\"0 0 24 24\"\n",
              "       width=\"24px\">\n",
              "    <path d=\"M0 0h24v24H0V0z\" fill=\"none\"/>\n",
              "    <path d=\"M18.56 5.44l.94 2.06.94-2.06 2.06-.94-2.06-.94-.94-2.06-.94 2.06-2.06.94zm-11 1L8.5 8.5l.94-2.06 2.06-.94-2.06-.94L8.5 2.5l-.94 2.06-2.06.94zm10 10l.94 2.06.94-2.06 2.06-.94-2.06-.94-.94-2.06-.94 2.06-2.06.94z\"/><path d=\"M17.41 7.96l-1.37-1.37c-.4-.4-.92-.59-1.43-.59-.52 0-1.04.2-1.43.59L10.3 9.45l-7.72 7.72c-.78.78-.78 2.05 0 2.83L4 21.41c.39.39.9.59 1.41.59.51 0 1.02-.2 1.41-.59l7.78-7.78 2.81-2.81c.8-.78.8-2.07 0-2.86zM5.41 20L4 18.59l7.72-7.72 1.47 1.35L5.41 20z\"/>\n",
              "  </svg>\n",
              "      </button>\n",
              "      \n",
              "  <style>\n",
              "    .colab-df-container {\n",
              "      display:flex;\n",
              "      flex-wrap:wrap;\n",
              "      gap: 12px;\n",
              "    }\n",
              "\n",
              "    .colab-df-convert {\n",
              "      background-color: #E8F0FE;\n",
              "      border: none;\n",
              "      border-radius: 50%;\n",
              "      cursor: pointer;\n",
              "      display: none;\n",
              "      fill: #1967D2;\n",
              "      height: 32px;\n",
              "      padding: 0 0 0 0;\n",
              "      width: 32px;\n",
              "    }\n",
              "\n",
              "    .colab-df-convert:hover {\n",
              "      background-color: #E2EBFA;\n",
              "      box-shadow: 0px 1px 2px rgba(60, 64, 67, 0.3), 0px 1px 3px 1px rgba(60, 64, 67, 0.15);\n",
              "      fill: #174EA6;\n",
              "    }\n",
              "\n",
              "    [theme=dark] .colab-df-convert {\n",
              "      background-color: #3B4455;\n",
              "      fill: #D2E3FC;\n",
              "    }\n",
              "\n",
              "    [theme=dark] .colab-df-convert:hover {\n",
              "      background-color: #434B5C;\n",
              "      box-shadow: 0px 1px 3px 1px rgba(0, 0, 0, 0.15);\n",
              "      filter: drop-shadow(0px 1px 2px rgba(0, 0, 0, 0.3));\n",
              "      fill: #FFFFFF;\n",
              "    }\n",
              "  </style>\n",
              "\n",
              "      <script>\n",
              "        const buttonEl =\n",
              "          document.querySelector('#df-cea3f2d0-772b-4060-bc8e-e1f549009b7d button.colab-df-convert');\n",
              "        buttonEl.style.display =\n",
              "          google.colab.kernel.accessAllowed ? 'block' : 'none';\n",
              "\n",
              "        async function convertToInteractive(key) {\n",
              "          const element = document.querySelector('#df-cea3f2d0-772b-4060-bc8e-e1f549009b7d');\n",
              "          const dataTable =\n",
              "            await google.colab.kernel.invokeFunction('convertToInteractive',\n",
              "                                                     [key], {});\n",
              "          if (!dataTable) return;\n",
              "\n",
              "          const docLinkHtml = 'Like what you see? Visit the ' +\n",
              "            '<a target=\"_blank\" href=https://colab.research.google.com/notebooks/data_table.ipynb>data table notebook</a>'\n",
              "            + ' to learn more about interactive tables.';\n",
              "          element.innerHTML = '';\n",
              "          dataTable['output_type'] = 'display_data';\n",
              "          await google.colab.output.renderOutput(dataTable, element);\n",
              "          const docLink = document.createElement('div');\n",
              "          docLink.innerHTML = docLinkHtml;\n",
              "          element.appendChild(docLink);\n",
              "        }\n",
              "      </script>\n",
              "    </div>\n",
              "  </div>\n",
              "  "
            ]
          },
          "metadata": {},
          "execution_count": 14
        }
      ]
    }
  ]
}