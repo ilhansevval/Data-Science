{
  "nbformat": 4,
  "nbformat_minor": 0,
  "metadata": {
    "colab": {
      "name": "exploratory_data_analysis.ipynb",
      "provenance": [],
      "collapsed_sections": []
    },
    "kernelspec": {
      "name": "python3",
      "display_name": "Python 3"
    },
    "language_info": {
      "name": "python"
    }
  },
  "cells": [
    {
      "cell_type": "markdown",
      "source": [
        "\n",
        "# **EXPLORATORY DATA ANALYSIS**\n",
        "\n"
      ],
      "metadata": {
        "id": "CtaNfRxSlDJu"
      }
    },
    {
      "cell_type": "code",
      "execution_count": null,
      "metadata": {
        "colab": {
          "base_uri": "https://localhost:8080/"
        },
        "id": "QsfVCRjZjIHW",
        "outputId": "d002cd6e-baff-4275-e197-cb10463bb495"
      },
      "outputs": [
        {
          "output_type": "stream",
          "name": "stdout",
          "text": [
            "Mounted at /content/drive\n"
          ]
        }
      ],
      "source": [
        "import pandas as pd \n",
        "import numpy as np\n",
        "\n",
        "from google.colab import drive\n",
        "drive.mount('/content/drive')"
      ]
    },
    {
      "cell_type": "code",
      "source": [
        "\n",
        "data = pd.read_csv('/content/drive/MyDrive/data/pokemon.csv') #pokemon.csv datası dataframe'e çevrilir."
      ],
      "metadata": {
        "id": "IvmB1Kpqj8-U"
      },
      "execution_count": null,
      "outputs": []
    },
    {
      "cell_type": "code",
      "source": [
        "data.head()"
      ],
      "metadata": {
        "colab": {
          "base_uri": "https://localhost:8080/",
          "height": 206
        },
        "id": "nGHbsITakP3G",
        "outputId": "c9e3b7a6-7641-45cd-f7c5-e357b1fd3097"
      },
      "execution_count": null,
      "outputs": [
        {
          "output_type": "execute_result",
          "data": {
            "text/plain": [
              "   #           Name Type 1  Type 2  HP  Attack  Defense  Sp. Atk  Sp. Def  \\\n",
              "0  1      Bulbasaur  Grass  Poison  45      49       49       65       65   \n",
              "1  2        Ivysaur  Grass  Poison  60      62       63       80       80   \n",
              "2  3       Venusaur  Grass  Poison  80      82       83      100      100   \n",
              "3  4  Mega Venusaur  Grass  Poison  80     100      123      122      120   \n",
              "4  5     Charmander   Fire     NaN  39      52       43       60       50   \n",
              "\n",
              "   Speed  Generation  Legendary  \n",
              "0     45           1      False  \n",
              "1     60           1      False  \n",
              "2     80           1      False  \n",
              "3     80           1      False  \n",
              "4     65           1      False  "
            ],
            "text/html": [
              "\n",
              "  <div id=\"df-e8762d12-63ac-47ee-b883-e97a1b25b1fe\">\n",
              "    <div class=\"colab-df-container\">\n",
              "      <div>\n",
              "<style scoped>\n",
              "    .dataframe tbody tr th:only-of-type {\n",
              "        vertical-align: middle;\n",
              "    }\n",
              "\n",
              "    .dataframe tbody tr th {\n",
              "        vertical-align: top;\n",
              "    }\n",
              "\n",
              "    .dataframe thead th {\n",
              "        text-align: right;\n",
              "    }\n",
              "</style>\n",
              "<table border=\"1\" class=\"dataframe\">\n",
              "  <thead>\n",
              "    <tr style=\"text-align: right;\">\n",
              "      <th></th>\n",
              "      <th>#</th>\n",
              "      <th>Name</th>\n",
              "      <th>Type 1</th>\n",
              "      <th>Type 2</th>\n",
              "      <th>HP</th>\n",
              "      <th>Attack</th>\n",
              "      <th>Defense</th>\n",
              "      <th>Sp. Atk</th>\n",
              "      <th>Sp. Def</th>\n",
              "      <th>Speed</th>\n",
              "      <th>Generation</th>\n",
              "      <th>Legendary</th>\n",
              "    </tr>\n",
              "  </thead>\n",
              "  <tbody>\n",
              "    <tr>\n",
              "      <th>0</th>\n",
              "      <td>1</td>\n",
              "      <td>Bulbasaur</td>\n",
              "      <td>Grass</td>\n",
              "      <td>Poison</td>\n",
              "      <td>45</td>\n",
              "      <td>49</td>\n",
              "      <td>49</td>\n",
              "      <td>65</td>\n",
              "      <td>65</td>\n",
              "      <td>45</td>\n",
              "      <td>1</td>\n",
              "      <td>False</td>\n",
              "    </tr>\n",
              "    <tr>\n",
              "      <th>1</th>\n",
              "      <td>2</td>\n",
              "      <td>Ivysaur</td>\n",
              "      <td>Grass</td>\n",
              "      <td>Poison</td>\n",
              "      <td>60</td>\n",
              "      <td>62</td>\n",
              "      <td>63</td>\n",
              "      <td>80</td>\n",
              "      <td>80</td>\n",
              "      <td>60</td>\n",
              "      <td>1</td>\n",
              "      <td>False</td>\n",
              "    </tr>\n",
              "    <tr>\n",
              "      <th>2</th>\n",
              "      <td>3</td>\n",
              "      <td>Venusaur</td>\n",
              "      <td>Grass</td>\n",
              "      <td>Poison</td>\n",
              "      <td>80</td>\n",
              "      <td>82</td>\n",
              "      <td>83</td>\n",
              "      <td>100</td>\n",
              "      <td>100</td>\n",
              "      <td>80</td>\n",
              "      <td>1</td>\n",
              "      <td>False</td>\n",
              "    </tr>\n",
              "    <tr>\n",
              "      <th>3</th>\n",
              "      <td>4</td>\n",
              "      <td>Mega Venusaur</td>\n",
              "      <td>Grass</td>\n",
              "      <td>Poison</td>\n",
              "      <td>80</td>\n",
              "      <td>100</td>\n",
              "      <td>123</td>\n",
              "      <td>122</td>\n",
              "      <td>120</td>\n",
              "      <td>80</td>\n",
              "      <td>1</td>\n",
              "      <td>False</td>\n",
              "    </tr>\n",
              "    <tr>\n",
              "      <th>4</th>\n",
              "      <td>5</td>\n",
              "      <td>Charmander</td>\n",
              "      <td>Fire</td>\n",
              "      <td>NaN</td>\n",
              "      <td>39</td>\n",
              "      <td>52</td>\n",
              "      <td>43</td>\n",
              "      <td>60</td>\n",
              "      <td>50</td>\n",
              "      <td>65</td>\n",
              "      <td>1</td>\n",
              "      <td>False</td>\n",
              "    </tr>\n",
              "  </tbody>\n",
              "</table>\n",
              "</div>\n",
              "      <button class=\"colab-df-convert\" onclick=\"convertToInteractive('df-e8762d12-63ac-47ee-b883-e97a1b25b1fe')\"\n",
              "              title=\"Convert this dataframe to an interactive table.\"\n",
              "              style=\"display:none;\">\n",
              "        \n",
              "  <svg xmlns=\"http://www.w3.org/2000/svg\" height=\"24px\"viewBox=\"0 0 24 24\"\n",
              "       width=\"24px\">\n",
              "    <path d=\"M0 0h24v24H0V0z\" fill=\"none\"/>\n",
              "    <path d=\"M18.56 5.44l.94 2.06.94-2.06 2.06-.94-2.06-.94-.94-2.06-.94 2.06-2.06.94zm-11 1L8.5 8.5l.94-2.06 2.06-.94-2.06-.94L8.5 2.5l-.94 2.06-2.06.94zm10 10l.94 2.06.94-2.06 2.06-.94-2.06-.94-.94-2.06-.94 2.06-2.06.94z\"/><path d=\"M17.41 7.96l-1.37-1.37c-.4-.4-.92-.59-1.43-.59-.52 0-1.04.2-1.43.59L10.3 9.45l-7.72 7.72c-.78.78-.78 2.05 0 2.83L4 21.41c.39.39.9.59 1.41.59.51 0 1.02-.2 1.41-.59l7.78-7.78 2.81-2.81c.8-.78.8-2.07 0-2.86zM5.41 20L4 18.59l7.72-7.72 1.47 1.35L5.41 20z\"/>\n",
              "  </svg>\n",
              "      </button>\n",
              "      \n",
              "  <style>\n",
              "    .colab-df-container {\n",
              "      display:flex;\n",
              "      flex-wrap:wrap;\n",
              "      gap: 12px;\n",
              "    }\n",
              "\n",
              "    .colab-df-convert {\n",
              "      background-color: #E8F0FE;\n",
              "      border: none;\n",
              "      border-radius: 50%;\n",
              "      cursor: pointer;\n",
              "      display: none;\n",
              "      fill: #1967D2;\n",
              "      height: 32px;\n",
              "      padding: 0 0 0 0;\n",
              "      width: 32px;\n",
              "    }\n",
              "\n",
              "    .colab-df-convert:hover {\n",
              "      background-color: #E2EBFA;\n",
              "      box-shadow: 0px 1px 2px rgba(60, 64, 67, 0.3), 0px 1px 3px 1px rgba(60, 64, 67, 0.15);\n",
              "      fill: #174EA6;\n",
              "    }\n",
              "\n",
              "    [theme=dark] .colab-df-convert {\n",
              "      background-color: #3B4455;\n",
              "      fill: #D2E3FC;\n",
              "    }\n",
              "\n",
              "    [theme=dark] .colab-df-convert:hover {\n",
              "      background-color: #434B5C;\n",
              "      box-shadow: 0px 1px 3px 1px rgba(0, 0, 0, 0.15);\n",
              "      filter: drop-shadow(0px 1px 2px rgba(0, 0, 0, 0.3));\n",
              "      fill: #FFFFFF;\n",
              "    }\n",
              "  </style>\n",
              "\n",
              "      <script>\n",
              "        const buttonEl =\n",
              "          document.querySelector('#df-e8762d12-63ac-47ee-b883-e97a1b25b1fe button.colab-df-convert');\n",
              "        buttonEl.style.display =\n",
              "          google.colab.kernel.accessAllowed ? 'block' : 'none';\n",
              "\n",
              "        async function convertToInteractive(key) {\n",
              "          const element = document.querySelector('#df-e8762d12-63ac-47ee-b883-e97a1b25b1fe');\n",
              "          const dataTable =\n",
              "            await google.colab.kernel.invokeFunction('convertToInteractive',\n",
              "                                                     [key], {});\n",
              "          if (!dataTable) return;\n",
              "\n",
              "          const docLinkHtml = 'Like what you see? Visit the ' +\n",
              "            '<a target=\"_blank\" href=https://colab.research.google.com/notebooks/data_table.ipynb>data table notebook</a>'\n",
              "            + ' to learn more about interactive tables.';\n",
              "          element.innerHTML = '';\n",
              "          dataTable['output_type'] = 'display_data';\n",
              "          await google.colab.output.renderOutput(dataTable, element);\n",
              "          const docLink = document.createElement('div');\n",
              "          docLink.innerHTML = docLinkHtml;\n",
              "          element.appendChild(docLink);\n",
              "        }\n",
              "      </script>\n",
              "    </div>\n",
              "  </div>\n",
              "  "
            ]
          },
          "metadata": {},
          "execution_count": 4
        }
      ]
    },
    {
      "cell_type": "markdown",
      "source": [
        "**value_count()** methodu bir sütundaki verilerden kaç tane olduğunu gösterir. Bu method kullanılırken **dropna = False** denildiğinde missing datalar da sayılır."
      ],
      "metadata": {
        "id": "cKnikeV_kf-k"
      }
    },
    {
      "cell_type": "code",
      "source": [
        "print(data['Type 1'].value_counts(dropna =False)) "
      ],
      "metadata": {
        "colab": {
          "base_uri": "https://localhost:8080/"
        },
        "id": "8dBAsPwgkNAB",
        "outputId": "a69903f9-4e40-4c7b-90d8-73ad7ec7b363"
      },
      "execution_count": null,
      "outputs": [
        {
          "output_type": "stream",
          "name": "stdout",
          "text": [
            "Water       112\n",
            "Normal       98\n",
            "Grass        70\n",
            "Bug          69\n",
            "Psychic      57\n",
            "Fire         52\n",
            "Electric     44\n",
            "Rock         44\n",
            "Dragon       32\n",
            "Ground       32\n",
            "Ghost        32\n",
            "Dark         31\n",
            "Poison       28\n",
            "Steel        27\n",
            "Fighting     27\n",
            "Ice          24\n",
            "Fairy        17\n",
            "Flying        4\n",
            "Name: Type 1, dtype: int64\n"
          ]
        }
      ]
    },
    {
      "cell_type": "code",
      "source": [
        "data.isnull().sum().sort_values(ascending=False) #eksik değerlerin sayısı azalan şekilde sıralanır. "
      ],
      "metadata": {
        "colab": {
          "base_uri": "https://localhost:8080/"
        },
        "id": "Yk2xOYxrR85z",
        "outputId": "5348f438-1930-492d-975c-7e71c91b86c3"
      },
      "execution_count": null,
      "outputs": [
        {
          "output_type": "execute_result",
          "data": {
            "text/plain": [
              "Type 2        386\n",
              "Name            1\n",
              "#               0\n",
              "Type 1          0\n",
              "HP              0\n",
              "Attack          0\n",
              "Defense         0\n",
              "Sp. Atk         0\n",
              "Sp. Def         0\n",
              "Speed           0\n",
              "Generation      0\n",
              "Legendary       0\n",
              "dtype: int64"
            ]
          },
          "metadata": {},
          "execution_count": 12
        }
      ]
    },
    {
      "cell_type": "markdown",
      "source": [
        "**outlier** ayrık, aykırı demektir. Outlier değerler verilerin geri kalanından önemli ölçüde daha yüksek ya da daha düşüktür."
      ],
      "metadata": {
        "id": "cyjK3UXFlrLg"
      }
    },
    {
      "cell_type": "code",
      "source": [
        "liste = np.array([1,4,5,6,8,9,11,12,13,14,15,16,17])"
      ],
      "metadata": {
        "id": "1RC5YYoKkN2H"
      },
      "execution_count": null,
      "outputs": []
    },
    {
      "cell_type": "markdown",
      "source": [
        "![python-outlier-detection-example-1.jpg](data:image/jpeg;base64,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)"
      ],
      "metadata": {
        "id": "Sp96LmiEsYDp"
      }
    },
    {
      "cell_type": "markdown",
      "source": [
        " \n",
        "\n",
        "*   **Median** değeri listenin ortasındaki sayıdır ve second quantile (50%) olarak da adlandırılır.\n",
        "*   **Lower quartile** listedeki en küçük sayı ile listenin medianının ortasındaki sayıdır, first quantile (25%) olarak da adlandırılır.\n",
        "*   **Upper quartile** listenin medianı ile listedeki en büyük sayının ortasındaki sayıdır, third quantile (75%) olarak da adlandırılır.\n",
        "*   Lower quartile(Q1) ile upper quartile(Q3) arasındaki mesafe **interquartile range**'dir. \n",
        "*   Q1 - 1.5(Q3-Q1) değerinin altındaki değerler listedeki minimum değerin altında kalır ve outlierdır.\n",
        "*   Q3 + 1.5(Q3-Q1). (Q3-Q1) değerinin üstündeki değerler listedeki maximum değerin üstünde kalır ve outlierdır.\n",
        "\n",
        "\n",
        "\n",
        "\n",
        "\n",
        "\n",
        "\n"
      ],
      "metadata": {
        "id": "iAR4otbSnpF-"
      }
    },
    {
      "cell_type": "code",
      "source": [
        "from numpy import median\n",
        "median(liste)"
      ],
      "metadata": {
        "colab": {
          "base_uri": "https://localhost:8080/"
        },
        "id": "W1-WczHmnJ7V",
        "outputId": "f4e89b9d-2970-4d69-aa95-7107dd75f596"
      },
      "execution_count": null,
      "outputs": [
        {
          "output_type": "execute_result",
          "data": {
            "text/plain": [
              "11.0"
            ]
          },
          "metadata": {},
          "execution_count": 7
        }
      ]
    },
    {
      "cell_type": "code",
      "source": [
        "print(\"median or second quantile(50%) : \", np.quantile(liste, .50))\n",
        "print(\"first quantile(%25) : \", np.quantile(liste, .25))\n",
        "print(\"third quantile(%75) : \", np.quantile(liste, .75))"
      ],
      "metadata": {
        "colab": {
          "base_uri": "https://localhost:8080/"
        },
        "id": "DfM57_Phnkrc",
        "outputId": "6d0884c4-73ca-44ba-c23a-d7df6d1cf5f3"
      },
      "execution_count": null,
      "outputs": [
        {
          "output_type": "stream",
          "name": "stdout",
          "text": [
            "median or second quantile(50%) :  11.0\n",
            "first quantile(%25) :  6.0\n",
            "third quantile(%75) :  14.0\n"
          ]
        }
      ]
    },
    {
      "cell_type": "markdown",
      "source": [
        "describe methodunda ;\n",
        "*   Sayısal değer barındıran sütunların istatiksel özeti hesaplanır.\n",
        "*   count dataframedeki samplelardır.\n",
        "*   mean ortalama değerdir.\n",
        "*   min, max, standart sapma, median, lower quartile, upper quartile hesaplanır.\n",
        "\n",
        "\n",
        "\n"
      ],
      "metadata": {
        "id": "fPG7Ib4oqVrN"
      }
    },
    {
      "cell_type": "code",
      "source": [
        "data.describe()"
      ],
      "metadata": {
        "colab": {
          "base_uri": "https://localhost:8080/",
          "height": 300
        },
        "id": "l_dM8jo0o0eW",
        "outputId": "caf04a0c-5a09-4877-e772-ade5fc6e2fbb"
      },
      "execution_count": null,
      "outputs": [
        {
          "output_type": "execute_result",
          "data": {
            "text/plain": [
              "              #          HP      Attack     Defense     Sp. Atk     Sp. Def  \\\n",
              "count  800.0000  800.000000  800.000000  800.000000  800.000000  800.000000   \n",
              "mean   400.5000   69.258750   79.001250   73.842500   72.820000   71.902500   \n",
              "std    231.0844   25.534669   32.457366   31.183501   32.722294   27.828916   \n",
              "min      1.0000    1.000000    5.000000    5.000000   10.000000   20.000000   \n",
              "25%    200.7500   50.000000   55.000000   50.000000   49.750000   50.000000   \n",
              "50%    400.5000   65.000000   75.000000   70.000000   65.000000   70.000000   \n",
              "75%    600.2500   80.000000  100.000000   90.000000   95.000000   90.000000   \n",
              "max    800.0000  255.000000  190.000000  230.000000  194.000000  230.000000   \n",
              "\n",
              "            Speed  Generation  \n",
              "count  800.000000   800.00000  \n",
              "mean    68.277500     3.32375  \n",
              "std     29.060474     1.66129  \n",
              "min      5.000000     1.00000  \n",
              "25%     45.000000     2.00000  \n",
              "50%     65.000000     3.00000  \n",
              "75%     90.000000     5.00000  \n",
              "max    180.000000     6.00000  "
            ],
            "text/html": [
              "\n",
              "  <div id=\"df-233fc34a-1e78-4a05-a596-3c6c119f8834\">\n",
              "    <div class=\"colab-df-container\">\n",
              "      <div>\n",
              "<style scoped>\n",
              "    .dataframe tbody tr th:only-of-type {\n",
              "        vertical-align: middle;\n",
              "    }\n",
              "\n",
              "    .dataframe tbody tr th {\n",
              "        vertical-align: top;\n",
              "    }\n",
              "\n",
              "    .dataframe thead th {\n",
              "        text-align: right;\n",
              "    }\n",
              "</style>\n",
              "<table border=\"1\" class=\"dataframe\">\n",
              "  <thead>\n",
              "    <tr style=\"text-align: right;\">\n",
              "      <th></th>\n",
              "      <th>#</th>\n",
              "      <th>HP</th>\n",
              "      <th>Attack</th>\n",
              "      <th>Defense</th>\n",
              "      <th>Sp. Atk</th>\n",
              "      <th>Sp. Def</th>\n",
              "      <th>Speed</th>\n",
              "      <th>Generation</th>\n",
              "    </tr>\n",
              "  </thead>\n",
              "  <tbody>\n",
              "    <tr>\n",
              "      <th>count</th>\n",
              "      <td>800.0000</td>\n",
              "      <td>800.000000</td>\n",
              "      <td>800.000000</td>\n",
              "      <td>800.000000</td>\n",
              "      <td>800.000000</td>\n",
              "      <td>800.000000</td>\n",
              "      <td>800.000000</td>\n",
              "      <td>800.00000</td>\n",
              "    </tr>\n",
              "    <tr>\n",
              "      <th>mean</th>\n",
              "      <td>400.5000</td>\n",
              "      <td>69.258750</td>\n",
              "      <td>79.001250</td>\n",
              "      <td>73.842500</td>\n",
              "      <td>72.820000</td>\n",
              "      <td>71.902500</td>\n",
              "      <td>68.277500</td>\n",
              "      <td>3.32375</td>\n",
              "    </tr>\n",
              "    <tr>\n",
              "      <th>std</th>\n",
              "      <td>231.0844</td>\n",
              "      <td>25.534669</td>\n",
              "      <td>32.457366</td>\n",
              "      <td>31.183501</td>\n",
              "      <td>32.722294</td>\n",
              "      <td>27.828916</td>\n",
              "      <td>29.060474</td>\n",
              "      <td>1.66129</td>\n",
              "    </tr>\n",
              "    <tr>\n",
              "      <th>min</th>\n",
              "      <td>1.0000</td>\n",
              "      <td>1.000000</td>\n",
              "      <td>5.000000</td>\n",
              "      <td>5.000000</td>\n",
              "      <td>10.000000</td>\n",
              "      <td>20.000000</td>\n",
              "      <td>5.000000</td>\n",
              "      <td>1.00000</td>\n",
              "    </tr>\n",
              "    <tr>\n",
              "      <th>25%</th>\n",
              "      <td>200.7500</td>\n",
              "      <td>50.000000</td>\n",
              "      <td>55.000000</td>\n",
              "      <td>50.000000</td>\n",
              "      <td>49.750000</td>\n",
              "      <td>50.000000</td>\n",
              "      <td>45.000000</td>\n",
              "      <td>2.00000</td>\n",
              "    </tr>\n",
              "    <tr>\n",
              "      <th>50%</th>\n",
              "      <td>400.5000</td>\n",
              "      <td>65.000000</td>\n",
              "      <td>75.000000</td>\n",
              "      <td>70.000000</td>\n",
              "      <td>65.000000</td>\n",
              "      <td>70.000000</td>\n",
              "      <td>65.000000</td>\n",
              "      <td>3.00000</td>\n",
              "    </tr>\n",
              "    <tr>\n",
              "      <th>75%</th>\n",
              "      <td>600.2500</td>\n",
              "      <td>80.000000</td>\n",
              "      <td>100.000000</td>\n",
              "      <td>90.000000</td>\n",
              "      <td>95.000000</td>\n",
              "      <td>90.000000</td>\n",
              "      <td>90.000000</td>\n",
              "      <td>5.00000</td>\n",
              "    </tr>\n",
              "    <tr>\n",
              "      <th>max</th>\n",
              "      <td>800.0000</td>\n",
              "      <td>255.000000</td>\n",
              "      <td>190.000000</td>\n",
              "      <td>230.000000</td>\n",
              "      <td>194.000000</td>\n",
              "      <td>230.000000</td>\n",
              "      <td>180.000000</td>\n",
              "      <td>6.00000</td>\n",
              "    </tr>\n",
              "  </tbody>\n",
              "</table>\n",
              "</div>\n",
              "      <button class=\"colab-df-convert\" onclick=\"convertToInteractive('df-233fc34a-1e78-4a05-a596-3c6c119f8834')\"\n",
              "              title=\"Convert this dataframe to an interactive table.\"\n",
              "              style=\"display:none;\">\n",
              "        \n",
              "  <svg xmlns=\"http://www.w3.org/2000/svg\" height=\"24px\"viewBox=\"0 0 24 24\"\n",
              "       width=\"24px\">\n",
              "    <path d=\"M0 0h24v24H0V0z\" fill=\"none\"/>\n",
              "    <path d=\"M18.56 5.44l.94 2.06.94-2.06 2.06-.94-2.06-.94-.94-2.06-.94 2.06-2.06.94zm-11 1L8.5 8.5l.94-2.06 2.06-.94-2.06-.94L8.5 2.5l-.94 2.06-2.06.94zm10 10l.94 2.06.94-2.06 2.06-.94-2.06-.94-.94-2.06-.94 2.06-2.06.94z\"/><path d=\"M17.41 7.96l-1.37-1.37c-.4-.4-.92-.59-1.43-.59-.52 0-1.04.2-1.43.59L10.3 9.45l-7.72 7.72c-.78.78-.78 2.05 0 2.83L4 21.41c.39.39.9.59 1.41.59.51 0 1.02-.2 1.41-.59l7.78-7.78 2.81-2.81c.8-.78.8-2.07 0-2.86zM5.41 20L4 18.59l7.72-7.72 1.47 1.35L5.41 20z\"/>\n",
              "  </svg>\n",
              "      </button>\n",
              "      \n",
              "  <style>\n",
              "    .colab-df-container {\n",
              "      display:flex;\n",
              "      flex-wrap:wrap;\n",
              "      gap: 12px;\n",
              "    }\n",
              "\n",
              "    .colab-df-convert {\n",
              "      background-color: #E8F0FE;\n",
              "      border: none;\n",
              "      border-radius: 50%;\n",
              "      cursor: pointer;\n",
              "      display: none;\n",
              "      fill: #1967D2;\n",
              "      height: 32px;\n",
              "      padding: 0 0 0 0;\n",
              "      width: 32px;\n",
              "    }\n",
              "\n",
              "    .colab-df-convert:hover {\n",
              "      background-color: #E2EBFA;\n",
              "      box-shadow: 0px 1px 2px rgba(60, 64, 67, 0.3), 0px 1px 3px 1px rgba(60, 64, 67, 0.15);\n",
              "      fill: #174EA6;\n",
              "    }\n",
              "\n",
              "    [theme=dark] .colab-df-convert {\n",
              "      background-color: #3B4455;\n",
              "      fill: #D2E3FC;\n",
              "    }\n",
              "\n",
              "    [theme=dark] .colab-df-convert:hover {\n",
              "      background-color: #434B5C;\n",
              "      box-shadow: 0px 1px 3px 1px rgba(0, 0, 0, 0.15);\n",
              "      filter: drop-shadow(0px 1px 2px rgba(0, 0, 0, 0.3));\n",
              "      fill: #FFFFFF;\n",
              "    }\n",
              "  </style>\n",
              "\n",
              "      <script>\n",
              "        const buttonEl =\n",
              "          document.querySelector('#df-233fc34a-1e78-4a05-a596-3c6c119f8834 button.colab-df-convert');\n",
              "        buttonEl.style.display =\n",
              "          google.colab.kernel.accessAllowed ? 'block' : 'none';\n",
              "\n",
              "        async function convertToInteractive(key) {\n",
              "          const element = document.querySelector('#df-233fc34a-1e78-4a05-a596-3c6c119f8834');\n",
              "          const dataTable =\n",
              "            await google.colab.kernel.invokeFunction('convertToInteractive',\n",
              "                                                     [key], {});\n",
              "          if (!dataTable) return;\n",
              "\n",
              "          const docLinkHtml = 'Like what you see? Visit the ' +\n",
              "            '<a target=\"_blank\" href=https://colab.research.google.com/notebooks/data_table.ipynb>data table notebook</a>'\n",
              "            + ' to learn more about interactive tables.';\n",
              "          element.innerHTML = '';\n",
              "          dataTable['output_type'] = 'display_data';\n",
              "          await google.colab.output.renderOutput(dataTable, element);\n",
              "          const docLink = document.createElement('div');\n",
              "          docLink.innerHTML = docLinkHtml;\n",
              "          element.appendChild(docLink);\n",
              "        }\n",
              "      </script>\n",
              "    </div>\n",
              "  </div>\n",
              "  "
            ]
          },
          "metadata": {},
          "execution_count": 9
        }
      ]
    },
    {
      "cell_type": "markdown",
      "source": [
        "describe methodu string veri barındıran sütunlara da uygulanabilir.\n",
        "\n",
        "*   **count**: NaN olmayan veri sayısı\n",
        "*  **unique**: Birbirinden farklı kaç kategori olduğunun bilgisi\n",
        "*   **top** : Sütunda en çok bulunan kategorinin adı.\n",
        "*   **freq** : En çok bulunan kategorinin sütunda bulunma sıklığı\n",
        "\n",
        "\n",
        "\n"
      ],
      "metadata": {
        "id": "FKagBxpHSvdC"
      }
    },
    {
      "cell_type": "code",
      "source": [
        "data[\"Name\"].describe()"
      ],
      "metadata": {
        "colab": {
          "base_uri": "https://localhost:8080/"
        },
        "id": "zcknY98iSnww",
        "outputId": "84ab6a65-8bc3-41a4-a8be-2a02c1ac96e3"
      },
      "execution_count": null,
      "outputs": [
        {
          "output_type": "execute_result",
          "data": {
            "text/plain": [
              "count           799\n",
              "unique          799\n",
              "top       Bulbasaur\n",
              "freq              1\n",
              "Name: Name, dtype: object"
            ]
          },
          "metadata": {},
          "execution_count": 13
        }
      ]
    },
    {
      "cell_type": "markdown",
      "source": [
        "describe string veri bulunduran sütunlarda uygulanmak istenildiğinde **['O']** parametresi kullanılır."
      ],
      "metadata": {
        "id": "bcoO10oiTytw"
      }
    },
    {
      "cell_type": "code",
      "source": [
        "data.describe(include=['O'])"
      ],
      "metadata": {
        "colab": {
          "base_uri": "https://localhost:8080/",
          "height": 175
        },
        "id": "Y6l0CmK2St2t",
        "outputId": "fa5fb184-a4b6-4e8f-c576-5ec5d4dd0fb7"
      },
      "execution_count": null,
      "outputs": [
        {
          "output_type": "execute_result",
          "data": {
            "text/plain": [
              "             Name Type 1  Type 2\n",
              "count         799    800     414\n",
              "unique        799     18      18\n",
              "top     Bulbasaur  Water  Flying\n",
              "freq            1    112      97"
            ],
            "text/html": [
              "\n",
              "  <div id=\"df-cea3f2d0-772b-4060-bc8e-e1f549009b7d\">\n",
              "    <div class=\"colab-df-container\">\n",
              "      <div>\n",
              "<style scoped>\n",
              "    .dataframe tbody tr th:only-of-type {\n",
              "        vertical-align: middle;\n",
              "    }\n",
              "\n",
              "    .dataframe tbody tr th {\n",
              "        vertical-align: top;\n",
              "    }\n",
              "\n",
              "    .dataframe thead th {\n",
              "        text-align: right;\n",
              "    }\n",
              "</style>\n",
              "<table border=\"1\" class=\"dataframe\">\n",
              "  <thead>\n",
              "    <tr style=\"text-align: right;\">\n",
              "      <th></th>\n",
              "      <th>Name</th>\n",
              "      <th>Type 1</th>\n",
              "      <th>Type 2</th>\n",
              "    </tr>\n",
              "  </thead>\n",
              "  <tbody>\n",
              "    <tr>\n",
              "      <th>count</th>\n",
              "      <td>799</td>\n",
              "      <td>800</td>\n",
              "      <td>414</td>\n",
              "    </tr>\n",
              "    <tr>\n",
              "      <th>unique</th>\n",
              "      <td>799</td>\n",
              "      <td>18</td>\n",
              "      <td>18</td>\n",
              "    </tr>\n",
              "    <tr>\n",
              "      <th>top</th>\n",
              "      <td>Bulbasaur</td>\n",
              "      <td>Water</td>\n",
              "      <td>Flying</td>\n",
              "    </tr>\n",
              "    <tr>\n",
              "      <th>freq</th>\n",
              "      <td>1</td>\n",
              "      <td>112</td>\n",
              "      <td>97</td>\n",
              "    </tr>\n",
              "  </tbody>\n",
              "</table>\n",
              "</div>\n",
              "      <button class=\"colab-df-convert\" onclick=\"convertToInteractive('df-cea3f2d0-772b-4060-bc8e-e1f549009b7d')\"\n",
              "              title=\"Convert this dataframe to an interactive table.\"\n",
              "              style=\"display:none;\">\n",
              "        \n",
              "  <svg xmlns=\"http://www.w3.org/2000/svg\" height=\"24px\"viewBox=\"0 0 24 24\"\n",
              "       width=\"24px\">\n",
              "    <path d=\"M0 0h24v24H0V0z\" fill=\"none\"/>\n",
              "    <path d=\"M18.56 5.44l.94 2.06.94-2.06 2.06-.94-2.06-.94-.94-2.06-.94 2.06-2.06.94zm-11 1L8.5 8.5l.94-2.06 2.06-.94-2.06-.94L8.5 2.5l-.94 2.06-2.06.94zm10 10l.94 2.06.94-2.06 2.06-.94-2.06-.94-.94-2.06-.94 2.06-2.06.94z\"/><path d=\"M17.41 7.96l-1.37-1.37c-.4-.4-.92-.59-1.43-.59-.52 0-1.04.2-1.43.59L10.3 9.45l-7.72 7.72c-.78.78-.78 2.05 0 2.83L4 21.41c.39.39.9.59 1.41.59.51 0 1.02-.2 1.41-.59l7.78-7.78 2.81-2.81c.8-.78.8-2.07 0-2.86zM5.41 20L4 18.59l7.72-7.72 1.47 1.35L5.41 20z\"/>\n",
              "  </svg>\n",
              "      </button>\n",
              "      \n",
              "  <style>\n",
              "    .colab-df-container {\n",
              "      display:flex;\n",
              "      flex-wrap:wrap;\n",
              "      gap: 12px;\n",
              "    }\n",
              "\n",
              "    .colab-df-convert {\n",
              "      background-color: #E8F0FE;\n",
              "      border: none;\n",
              "      border-radius: 50%;\n",
              "      cursor: pointer;\n",
              "      display: none;\n",
              "      fill: #1967D2;\n",
              "      height: 32px;\n",
              "      padding: 0 0 0 0;\n",
              "      width: 32px;\n",
              "    }\n",
              "\n",
              "    .colab-df-convert:hover {\n",
              "      background-color: #E2EBFA;\n",
              "      box-shadow: 0px 1px 2px rgba(60, 64, 67, 0.3), 0px 1px 3px 1px rgba(60, 64, 67, 0.15);\n",
              "      fill: #174EA6;\n",
              "    }\n",
              "\n",
              "    [theme=dark] .colab-df-convert {\n",
              "      background-color: #3B4455;\n",
              "      fill: #D2E3FC;\n",
              "    }\n",
              "\n",
              "    [theme=dark] .colab-df-convert:hover {\n",
              "      background-color: #434B5C;\n",
              "      box-shadow: 0px 1px 3px 1px rgba(0, 0, 0, 0.15);\n",
              "      filter: drop-shadow(0px 1px 2px rgba(0, 0, 0, 0.3));\n",
              "      fill: #FFFFFF;\n",
              "    }\n",
              "  </style>\n",
              "\n",
              "      <script>\n",
              "        const buttonEl =\n",
              "          document.querySelector('#df-cea3f2d0-772b-4060-bc8e-e1f549009b7d button.colab-df-convert');\n",
              "        buttonEl.style.display =\n",
              "          google.colab.kernel.accessAllowed ? 'block' : 'none';\n",
              "\n",
              "        async function convertToInteractive(key) {\n",
              "          const element = document.querySelector('#df-cea3f2d0-772b-4060-bc8e-e1f549009b7d');\n",
              "          const dataTable =\n",
              "            await google.colab.kernel.invokeFunction('convertToInteractive',\n",
              "                                                     [key], {});\n",
              "          if (!dataTable) return;\n",
              "\n",
              "          const docLinkHtml = 'Like what you see? Visit the ' +\n",
              "            '<a target=\"_blank\" href=https://colab.research.google.com/notebooks/data_table.ipynb>data table notebook</a>'\n",
              "            + ' to learn more about interactive tables.';\n",
              "          element.innerHTML = '';\n",
              "          dataTable['output_type'] = 'display_data';\n",
              "          await google.colab.output.renderOutput(dataTable, element);\n",
              "          const docLink = document.createElement('div');\n",
              "          docLink.innerHTML = docLinkHtml;\n",
              "          element.appendChild(docLink);\n",
              "        }\n",
              "      </script>\n",
              "    </div>\n",
              "  </div>\n",
              "  "
            ]
          },
          "metadata": {},
          "execution_count": 14
        }
      ]
    }
  ]
}