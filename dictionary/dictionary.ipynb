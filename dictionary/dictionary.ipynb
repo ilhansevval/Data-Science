{
  "nbformat": 4,
  "nbformat_minor": 0,
  "metadata": {
    "colab": {
      "name": "dictionary.ipynb",
      "provenance": []
    },
    "kernelspec": {
      "name": "python3",
      "display_name": "Python 3"
    },
    "language_info": {
      "name": "python"
    }
  },
  "cells": [
    {
      "cell_type": "markdown",
      "source": [
        "**DICTIONARY**\n",
        "\n",
        "\n",
        "\n",
        "*   Dictionary'de key ve value şeklinde veri saklanabilen bir veri yapısıdır.\n",
        "*   **key** indekslerdir, indekslerin tuttuğu değerler de **value**lardır.\n",
        "*   Dictionary'ler listlerden daha hızlıdır.\n",
        "\n",
        "\n",
        "\n",
        "\n"
      ],
      "metadata": {
        "id": "AMEV1X-zMjPk"
      }
    },
    {
      "cell_type": "code",
      "source": [
        "dictionary = {'spain' : 'madrid','usa' : 'vegas'}\n",
        "print(dictionary.keys())\n",
        "print(dictionary.values())"
      ],
      "metadata": {
        "colab": {
          "base_uri": "https://localhost:8080/"
        },
        "id": "7IHBu-MjNpE8",
        "outputId": "8a03c717-3a3a-4f45-e5a1-7ead033ab285"
      },
      "execution_count": 9,
      "outputs": [
        {
          "output_type": "stream",
          "name": "stdout",
          "text": [
            "dict_keys(['spain', 'usa'])\n",
            "dict_values(['madrid', 'vegas'])\n"
          ]
        }
      ]
    },
    {
      "cell_type": "code",
      "source": [
        "#dictionaryler string, boolean, integer gibi constant değerler alır.\n",
        "#listeler constant değer almaz.\n",
        "\n",
        "dictionary['spain'] = \"barcelona\"   #spain key'inin value'su güncellenir.\n",
        "print(dictionary)\n",
        "\n",
        "dictionary['france'] = \"paris\"   #yeni bir entry eklenir, bu entry dictionary'nin sonunda görünür.\n",
        "print(dictionary)\n",
        "\n",
        "del dictionary['spain']   #delete methoduyla key adı kullanılarak entry silinir.\n",
        "print(dictionary)\n",
        "\n",
        "print('france' in dictionary)   #dictionary içerisinde arama yapılır.\n",
        "\n",
        "dictionary.clear()   #dictionary'nin içeriği temizlenir, boş bir dictionary gözükür.         \n",
        "print(dictionary)\n"
      ],
      "metadata": {
        "colab": {
          "base_uri": "https://localhost:8080/"
        },
        "id": "ScNDgZuxN2F9",
        "outputId": "7d820d57-b2d9-4532-86c9-47d3e44ec581"
      },
      "execution_count": 10,
      "outputs": [
        {
          "output_type": "stream",
          "name": "stdout",
          "text": [
            "{'spain': 'barcelona', 'usa': 'vegas'}\n",
            "{'spain': 'barcelona', 'usa': 'vegas', 'france': 'paris'}\n",
            "{'usa': 'vegas', 'france': 'paris'}\n",
            "True\n",
            "{}\n"
          ]
        }
      ]
    },
    {
      "cell_type": "code",
      "source": [
        "#del dictionary         #del methoduyla dictionary silinir\n",
        "print(dictionary)       #dictionary'nin memory'de yer kaplamaması için bu method kullanılır.\n",
        "#dictionary silindikten sonra print ettirildiğinde hata verir, çünkü öyle bir dictionary yoktur."
      ],
      "metadata": {
        "colab": {
          "base_uri": "https://localhost:8080/"
        },
        "id": "7tnhk4IYQmIq",
        "outputId": "36dc44ec-2e0b-40da-db30-a1b6a349274c"
      },
      "execution_count": 11,
      "outputs": [
        {
          "output_type": "stream",
          "name": "stdout",
          "text": [
            "{}\n"
          ]
        }
      ]
    }
  ]
}