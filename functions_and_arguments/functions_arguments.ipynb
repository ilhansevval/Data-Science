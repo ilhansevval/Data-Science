{
  "nbformat": 4,
  "nbformat_minor": 0,
  "metadata": {
    "colab": {
      "name": "functions_arguments.ipynb",
      "provenance": [],
      "collapsed_sections": []
    },
    "kernelspec": {
      "name": "python3",
      "display_name": "Python 3"
    },
    "language_info": {
      "name": "python"
    }
  },
  "cells": [
    {
      "cell_type": "markdown",
      "source": [
        "# **NESTED FUNCTION**\n",
        "*   iç içe fonksiyonlara nested function denir.\n",
        "\n",
        "\n"
      ],
      "metadata": {
        "id": "mH5tFHzs-9AL"
      }
    },
    {
      "cell_type": "code",
      "source": [
        "def square():\n",
        "    \"\"\" return square of value \"\"\"\n",
        "    def add():\n",
        "        \"\"\" add two local variable \"\"\"\n",
        "        x = 2\n",
        "        y = 3\n",
        "        z = x + y\n",
        "        return z\n",
        "    return add()**2\n",
        "print(square())  "
      ],
      "metadata": {
        "colab": {
          "base_uri": "https://localhost:8080/"
        },
        "id": "fIdTV2j2_Rvs",
        "outputId": "9357e707-d4d9-441f-ef56-d317f2f84cd7"
      },
      "execution_count": 1,
      "outputs": [
        {
          "output_type": "stream",
          "name": "stdout",
          "text": [
            "25\n"
          ]
        }
      ]
    },
    {
      "cell_type": "markdown",
      "source": [
        "# **DEFAULT ARGUMENT**\n",
        "\n",
        "*   Default argumentlar bir değişkenin değerinin değişmeyeceği durumlarda atanır.(örn: pi=3,14)\n",
        "*   Default olarak atanan değer fonksiyon çağrıldığında tekrardan değiştirilebilir.\n",
        "\n"
      ],
      "metadata": {
        "id": "3XXWodfJ_0I4"
      }
    },
    {
      "cell_type": "code",
      "source": [
        "def f(a, b = 1, c = 2):\n",
        "    y = a + b + c\n",
        "    return y\n",
        "print(f(5))      #b ve c default argument\n",
        "\n",
        "print(f(5,4,3))  #b ve c'ye yeni değer atandı."
      ],
      "metadata": {
        "colab": {
          "base_uri": "https://localhost:8080/"
        },
        "id": "GmHucHSx_qQJ",
        "outputId": "a05d8ad9-1df0-4275-d20f-d1028b23a603"
      },
      "execution_count": 2,
      "outputs": [
        {
          "output_type": "stream",
          "name": "stdout",
          "text": [
            "8\n",
            "12\n"
          ]
        }
      ]
    },
    {
      "cell_type": "markdown",
      "source": [
        "# **FLEXIBLE ARGUMENT**\n",
        "*   Fonksiyona gönderilecek her bir değer için birer parametre tanımlamak yerine, ***args**   sayesinde bir ya da birden fazla değer gönderilebir. \n",
        "*   args yapısı dictionaryler için ****kwargs** şeklinde kullanılır.\n",
        "*   Fonksiyonda tek bir değer gönderilirken, dictionaryde key ve value olmak üzere iki değer olacaktır.\n",
        "\n",
        "\n",
        "\n",
        "\n"
      ],
      "metadata": {
        "id": "Y1DFC4GSBhwS"
      }
    },
    {
      "cell_type": "code",
      "source": [
        "def f(*args):\n",
        "    for i in args:\n",
        "        print(i)\n",
        "f(1)\n",
        "print(\"\")\n",
        "f(1,2,3,4)"
      ],
      "metadata": {
        "colab": {
          "base_uri": "https://localhost:8080/"
        },
        "id": "e0YnJb4UCsz_",
        "outputId": "3a00806e-1ae9-4662-e2d5-f930a57ea34f"
      },
      "execution_count": 3,
      "outputs": [
        {
          "output_type": "stream",
          "name": "stdout",
          "text": [
            "1\n",
            "\n",
            "1\n",
            "2\n",
            "3\n",
            "4\n"
          ]
        }
      ]
    },
    {
      "cell_type": "code",
      "source": [
        "def f(**kwargs):\n",
        "    for key, value in kwargs.items():              \n",
        "        print(key, \" \", value)\n",
        "f(country = 'spain', capital = 'madrid', population = 123456)"
      ],
      "metadata": {
        "colab": {
          "base_uri": "https://localhost:8080/"
        },
        "id": "uaJmLJ6qDJr0",
        "outputId": "85801f07-59fe-49d2-886f-2011cb187c68"
      },
      "execution_count": 4,
      "outputs": [
        {
          "output_type": "stream",
          "name": "stdout",
          "text": [
            "country   spain\n",
            "capital   madrid\n",
            "population   123456\n"
          ]
        }
      ]
    },
    {
      "cell_type": "markdown",
      "source": [
        "# **LAMBDA FUNCTION**\n",
        "*   Amaç daha hızlı ve kolay bir şekilde fonksiyon yazabilmektir.\n",
        "\n",
        "\n"
      ],
      "metadata": {
        "id": "xKqHpC0lEjcp"
      }
    },
    {
      "cell_type": "code",
      "source": [
        "#lambda\n",
        "square = lambda x: x**2     \n",
        "print(square(4))\n",
        "\n",
        "#user defined function\n",
        "def square(x):\n",
        "  return x*x\n",
        "print(square(4))"
      ],
      "metadata": {
        "colab": {
          "base_uri": "https://localhost:8080/"
        },
        "id": "xDCzRYZOETpj",
        "outputId": "c2623930-9c77-4c02-8bfe-ab3a04f5d98a"
      },
      "execution_count": 8,
      "outputs": [
        {
          "output_type": "stream",
          "name": "stdout",
          "text": [
            "16\n",
            "16\n"
          ]
        }
      ]
    },
    {
      "cell_type": "code",
      "source": [
        "add = lambda x,y,z: x+y+z   \n",
        "print(add(1,2,3))"
      ],
      "metadata": {
        "colab": {
          "base_uri": "https://localhost:8080/"
        },
        "id": "BI4PtvP1FCvZ",
        "outputId": "c6d1ee10-5403-4117-d1ed-ce97cc2d3fe4"
      },
      "execution_count": 6,
      "outputs": [
        {
          "output_type": "stream",
          "name": "stdout",
          "text": [
            "6\n"
          ]
        }
      ]
    },
    {
      "cell_type": "markdown",
      "source": [
        "# **ANONYMOUS FUNCTION**\n",
        "*   Lambda gibi fonksiyon yazmanın hızlı ve kolay yoludur.\n",
        "*   Lambda'dan farkı birden fazla parametre alabilmesidir.\n",
        "*   map(func,seq) function listedeki tüm değerlere fonksiyonu uygular.\n",
        "\n",
        "\n",
        "\n"
      ],
      "metadata": {
        "id": "dvBNcz5rF7kP"
      }
    },
    {
      "cell_type": "code",
      "source": [
        "number_list = [1,2,3]\n",
        "y = map(lambda x:x**2,number_list)\n",
        "print(list(y))"
      ],
      "metadata": {
        "colab": {
          "base_uri": "https://localhost:8080/"
        },
        "id": "O9KiUkmvFZso",
        "outputId": "ca7d4ceb-ac80-457b-a5d8-410420c63b48"
      },
      "execution_count": 9,
      "outputs": [
        {
          "output_type": "stream",
          "name": "stdout",
          "text": [
            "[1, 4, 9]\n"
          ]
        }
      ]
    }
  ]
}